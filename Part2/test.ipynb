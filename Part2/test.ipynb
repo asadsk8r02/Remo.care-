{
 "cells": [
  {
   "cell_type": "code",
   "execution_count": 2,
   "id": "c5e762ab-aa53-4f5e-8988-11408742019a",
   "metadata": {},
   "outputs": [],
   "source": [
    "import json\n",
    "import glob\n",
    "import pandas as pd\n",
    "import numpy as np \n",
    "from matplotlib.patches import Ellipse\n",
    "import datetime\n",
    "datetime = datetime.datetime\n",
    "import matplotlib.pyplot as plt \n",
    "import requests\n",
    "import seaborn as sns\n",
    "import scipy as sp"
   ]
  },
  {
   "cell_type": "markdown",
   "id": "afc930cd-ab76-4715-86b9-4ef8cb30502a",
   "metadata": {},
   "source": [
    "Funtions to plot the graphs "
   ]
  },
  {
   "cell_type": "code",
   "execution_count": 3,
   "id": "524dc5a3-f3e3-47e4-9316-6422e1f5614a",
   "metadata": {},
   "outputs": [],
   "source": [
    "\n",
    "def plot_psd(fxx,pxx,name):\n",
    "    fig =plt.figure(figsize=(20, 7))\n",
    "    plt.plot(fxx, pxx, color=\"k\", linewidth=0.3)\n",
    "    plt.title(name)\n",
    "\n",
    "    # create interpolation function for plotting frequency bands\n",
    "    psd_f = sp.interpolate.interp1d(fxx, pxx)\n",
    "\n",
    "    # setup frequency bands for plotting\n",
    "    x_vlf = np.linspace(0, 0.04, 100)\n",
    "    x_lf = np.linspace(0.04, 0.15, 100)\n",
    "    x_hf = np.linspace(0.15, 0.4, 100)\n",
    "    plt.gca().fill_between(x_vlf, psd_f(x_vlf), alpha=0.2, color=\"#A651D8\", label=\"VLF\")\n",
    "    plt.gca().fill_between(x_lf, psd_f(x_lf), alpha=0.2, color=\"#51A6D8\", label=\"LF\")\n",
    "    plt.gca().fill_between(x_hf, psd_f(x_hf), alpha=0.2, color=\"#D8A651\", label=\"HF\")\n",
    "\n",
    "    plt.gca().set_xlim(0, 0.4)\n",
    "    plt.gca().set_ylim(0)\n",
    "    plt.xlabel(\"Frequency (Hz)\")\n",
    "    plt.ylabel(\"psd(S^2/hz)\")\n",
    "    plt.legend()\n",
    "    plt.show()\n",
    "def plot(data,data1):\n",
    "    bins = np.arange(np.min(data)-5,np.max(data)+5,2)\n",
    "    counts,bins = np.histogram(data, bins, density=False)\n",
    "    plt.figure(figsize=(20,5))\n",
    "    plt.subplot(1,2,1)\n",
    "    plt.hist(data,bins=bins,density=False, align='left', facecolor='blue', edgecolor='black')\n",
    "    plt.xlabel('HR (beats/min)')\n",
    "    plt.subplot(1,2,2)\n",
    "    bins = np.arange(np.min(data1)-10,np.max(data1)+10,10)\n",
    "    counts,bins = np.histogram(data1, bins, density=False)\n",
    "    plt.hist(data1,bins=bins,density=False, align='left', facecolor='blue', edgecolor='black')\n",
    "    plt.xlabel('rr(ms)')\n",
    "    plt.show()\n",
    "def plot_poinfrom_dict(result):\n",
    "      \n",
    "    rr_n = result['rr(n)(ms)']\n",
    "    rr_n1 = result['rr(n+1)(ms)']\n",
    "    sd1 =result['sd1(ms)']\n",
    "    sd2 = result['sd2(ms)']\n",
    "    m = result['mean']\n",
    "    min_rr = result['min_rr']\n",
    "    max_rr = result['max_rr']\n",
    "\n",
    "    plt.figure(figsize=(7, 7))\n",
    "    plt.title(\"Poincare plot\")\n",
    "\n",
    "    plt.scatter(x=rr_n, y=rr_n1, color=\"#51A6D8\")\n",
    "\n",
    "    plt.xlabel(r'$RR_n (ms)$')\n",
    "    plt.ylabel(r'$RR_{n+1} (ms)$')\n",
    "\n",
    "    e1 = Ellipse((m, m), 2*sd1, 2*sd2, angle=-45, linewidth=1.2, fill=False, color=\"k\")\n",
    "    plt.gca().add_patch(e1)\n",
    "\n",
    "    plt.arrow(m, m, (max_rr-min_rr)*0.4, (max_rr-min_rr)*0.4, color=\"k\", linewidth=0.8, head_width=5, head_length=5)\n",
    "    plt.arrow(m, m, (min_rr-max_rr)*0.4, (max_rr-min_rr)*0.4, color=\"k\", linewidth=0.8, head_width=5, head_length=5)\n",
    "\n",
    "    plt.arrow(m, m, sd2 * np.sqrt(0.5), sd2 * np.sqrt(0.5), color=\"green\", linewidth=5)\n",
    "    plt.arrow(m, m, -sd1 * np.sqrt(0.5), sd1 * np.sqrt(0.5), color=\"red\", linewidth=5)\n",
    "\n",
    "    plt.text(max_rr, max_rr, \"SD2\", fontsize=20, color=\"green\")\n",
    "    plt.text(m-(max_rr-min_rr)*0.4-20, max_rr, \"SD1\", fontsize=20, color=\"red\")\n",
    "    \n",
    "    plt.show()"
   ]
  },
  {
   "cell_type": "code",
   "execution_count": 4,
   "id": "f2e3071e-7a7b-4fea-87a1-0f79daa4038f",
   "metadata": {
    "collapsed": true,
    "jupyter": {
     "outputs_hidden": true,
     "source_hidden": true
    },
    "tags": []
   },
   "outputs": [
    {
     "name": "stdout",
     "output_type": "stream",
     "text": [
      "D:/internship/Data/abhishek/mar 11\\ECGDataJSON__124800 AM_124839 AM.txt\n",
      "79917\n",
      "D:/internship/Data/abhishek/mar 11\\ECGDataJSON__124840 AM_125631 AM.txt\n",
      "969308\n",
      "D:/internship/Data/abhishek/mar 11\\ECGDataJSON__125632 AM_125644 AM.txt\n",
      "25217\n",
      "D:/internship/Data/abhishek/mar 11\\ECGDataJSON__125645 AM_125703 AM.txt\n",
      "36953\n",
      "D:/internship/Data/abhishek/mar 11\\ECGDataJSON__125704 AM_125711 AM.txt\n",
      "14469\n",
      "D:/internship/Data/abhishek/mar 11\\ECGDataJSON__125712 AM_11215 AM.txt\n",
      "1870016\n",
      "D:/internship/Data/abhishek/mar 11\\ECGDataJSON__11216 AM_11223 AM.txt\n",
      "14235\n",
      "D:/internship/Data/abhishek/mar 11\\ECGDataJSON__11224 AM_11903 AM.txt\n",
      "819430\n",
      "D:/internship/Data/abhishek/mar 11\\ECGDataJSON__11904 AM_11919 AM.txt\n",
      "30477\n",
      "D:/internship/Data/abhishek/mar 11\\ECGDataJSON__11920 AM_13343 AM.txt\n",
      "1776587\n",
      "D:/internship/Data/abhishek/mar 11\\ECGDataJSON__13344 AM_13359 AM.txt\n",
      "30716\n",
      "D:/internship/Data/abhishek/mar 11\\ECGDataJSON__13400 AM_14319 AM.txt\n",
      "1155041\n",
      "D:/internship/Data/abhishek/mar 11\\ECGDataJSON__14320 AM_14343 AM.txt\n",
      "48424\n",
      "D:/internship/Data/abhishek/mar 11\\ECGDataJSON__14344 AM_14415 AM.txt\n",
      "64590\n",
      "D:/internship/Data/abhishek/mar 11\\ECGDataJSON__14416 AM_14647 AM.txt\n",
      "325016\n",
      "D:/internship/Data/abhishek/mar 11\\ECGDataJSON__14648 AM_14659 AM.txt\n",
      "22644\n",
      "D:/internship/Data/abhishek/mar 11\\ECGDataJSON__14700 AM_14711 AM.txt\n",
      "22125\n",
      "D:/internship/Data/abhishek/mar 11\\ECGDataJSON__14712 AM_14807 AM.txt\n",
      "113342\n",
      "D:/internship/Data/abhishek/mar 11\\ECGDataJSON__14808 AM_14831 AM.txt\n",
      "47744\n",
      "D:/internship/Data/abhishek/mar 11\\ECGDataJSON__14832 AM_14927 AM.txt\n",
      "113645\n",
      "D:/internship/Data/abhishek/mar 11\\ECGDataJSON__14928 AM_15143 AM.txt\n",
      "274655\n",
      "D:/internship/Data/abhishek/mar 11\\ECGDataJSON__15144 AM_15319 AM.txt\n",
      "193653\n",
      "D:/internship/Data/abhishek/mar 11\\ECGDataJSON__15320 AM_15519 AM.txt\n",
      "242203\n",
      "D:/internship/Data/abhishek/mar 11\\ECGDataJSON__15520 AM_15535 AM.txt\n",
      "30812\n",
      "D:/internship/Data/abhishek/mar 11\\ECGDataJSON__15536 AM_15607 AM.txt\n",
      "63986\n",
      "D:/internship/Data/abhishek/mar 11\\ECGDataJSON__15608 AM_15620 AM.txt\n",
      "24195\n",
      "D:/internship/Data/abhishek/mar 11\\ECGDataJSON__15621 AM_15647 AM.txt\n",
      "52801\n",
      "D:/internship/Data/abhishek/mar 11\\ECGDataJSON__15648 AM_15743 AM.txt\n",
      "112989\n",
      "D:/internship/Data/abhishek/mar 11\\ECGDataJSON__15744 AM_15823 AM.txt\n",
      "80010\n",
      "D:/internship/Data/abhishek/mar 11\\ECGDataJSON__15824 AM_15839 AM.txt\n",
      "30964\n",
      "D:/internship/Data/abhishek/mar 11\\ECGDataJSON__15840 AM_15910 AM.txt\n",
      "61061\n",
      "D:/internship/Data/abhishek/mar 11\\ECGDataJSON__15911 AM_20031 AM.txt\n",
      "162960\n",
      "D:/internship/Data/abhishek/mar 11\\ECGDataJSON__20032 AM_20255 AM.txt\n",
      "291693\n",
      "D:/internship/Data/abhishek/mar 11\\ECGDataJSON__20256 AM_20303 AM.txt\n",
      "14923\n",
      "D:/internship/Data/abhishek/mar 11\\ECGDataJSON__20304 AM_20319 AM.txt\n",
      "30436\n",
      "D:/internship/Data/abhishek/mar 11\\ECGDataJSON__20320 AM_20343 AM.txt\n",
      "46562\n",
      "D:/internship/Data/abhishek/mar 11\\ECGDataJSON__20344 AM_20631 AM.txt\n",
      "340236\n",
      "D:/internship/Data/abhishek/mar 11\\ECGDataJSON__20632 AM_20655 AM.txt\n",
      "46313\n",
      "D:/internship/Data/abhishek/mar 11\\ECGDataJSON__20656 AM_20949 AM.txt\n",
      "354632\n",
      "D:/internship/Data/abhishek/mar 11\\ECGDataJSON__20950 AM_20959 AM.txt\n",
      "18243\n",
      "D:/internship/Data/abhishek/mar 11\\ECGDataJSON__21000 AM_21159 AM.txt\n",
      "243295\n",
      "D:/internship/Data/abhishek/mar 11\\ECGDataJSON__21200 AM_21207 AM.txt\n",
      "15007\n",
      "D:/internship/Data/abhishek/mar 11\\ECGDataJSON__21208 AM_22837 AM.txt\n",
      "2044634\n",
      "D:/internship/Data/abhishek/mar 11\\ECGDataJSON__22838 AM_22903 AM.txt\n",
      "51039\n",
      "D:/internship/Data/abhishek/mar 11\\ECGDataJSON__22904 AM_23039 AM.txt\n",
      "194651\n",
      "D:/internship/Data/abhishek/mar 11\\ECGDataJSON__23040 AM_23055 AM.txt\n",
      "30482\n",
      "D:/internship/Data/abhishek/mar 11\\ECGDataJSON__23056 AM_23303 AM.txt\n",
      "261979\n",
      "D:/internship/Data/abhishek/mar 11\\ECGDataJSON__23304 AM_23319 AM.txt\n",
      "30804\n",
      "D:/internship/Data/abhishek/mar 11\\ECGDataJSON__23320 AM_23607 AM.txt\n",
      "343791\n",
      "D:/internship/Data/abhishek/mar 11\\ECGDataJSON__23608 AM_23639 AM.txt\n",
      "63474\n",
      "D:/internship/Data/abhishek/mar 11\\ECGDataJSON__23640 AM_23831 AM.txt\n",
      "228649\n",
      "D:/internship/Data/abhishek/mar 11\\ECGDataJSON__23832 AM_23847 AM.txt\n",
      "30472\n",
      "D:/internship/Data/abhishek/mar 11\\ECGDataJSON__23848 AM_24138 AM.txt\n",
      "350396\n",
      "D:/internship/Data/abhishek/mar 11\\ECGDataJSON__24139 AM_24151 AM.txt\n",
      "24524\n",
      "D:/internship/Data/abhishek/mar 11\\ECGDataJSON__24152 AM_24215 AM.txt\n",
      "47320\n",
      "D:/internship/Data/abhishek/mar 11\\ECGDataJSON__24216 AM_24231 AM.txt\n",
      "30328\n",
      "D:/internship/Data/abhishek/mar 11\\ECGDataJSON__24232 AM_32039 AM.txt\n",
      "4720047\n",
      "D:/internship/Data/abhishek/mar 11\\ECGDataJSON__32040 AM_32051 AM.txt\n",
      "22062\n",
      "D:/internship/Data/abhishek/mar 11\\ECGDataJSON__32052 AM_32103 AM.txt\n",
      "23409\n",
      "D:/internship/Data/abhishek/mar 11\\ECGDataJSON__32104 AM_32135 AM.txt\n",
      "63103\n",
      "D:/internship/Data/abhishek/mar 11\\ECGDataJSON__32136 AM_32159 AM.txt\n",
      "47171\n",
      "D:/internship/Data/abhishek/mar 11\\ECGDataJSON__32200 AM_32231 AM.txt\n",
      "62322\n",
      "D:/internship/Data/abhishek/mar 11\\ECGDataJSON__32232 AM_32335 AM.txt\n",
      "129903\n",
      "D:/internship/Data/abhishek/mar 11\\ECGDataJSON__32336 AM_32359 AM.txt\n",
      "46452\n",
      "D:/internship/Data/abhishek/mar 11\\ECGDataJSON__32400 AM_32423 AM.txt\n",
      "47354\n",
      "D:/internship/Data/abhishek/mar 11\\ECGDataJSON__32424 AM_32439 AM.txt\n",
      "31257\n",
      "D:/internship/Data/abhishek/mar 11\\ECGDataJSON__32440 AM_32519 AM.txt\n",
      "80574\n",
      "D:/internship/Data/abhishek/mar 11\\ECGDataJSON__32520 AM_32559 AM.txt\n",
      "80239\n",
      "D:/internship/Data/abhishek/mar 11\\ECGDataJSON__32600 AM_33151 AM.txt\n",
      "722476\n",
      "D:/internship/Data/abhishek/mar 11\\ECGDataJSON__33152 AM_33831 AM.txt\n",
      "833529\n",
      "D:/internship/Data/abhishek/mar 11\\ECGDataJSON__33832 AM_33919 AM.txt\n",
      "95764\n",
      "D:/internship/Data/abhishek/mar 11\\ECGDataJSON__33920 AM_33935 AM.txt\n",
      "30514\n",
      "D:/internship/Data/abhishek/mar 11\\ECGDataJSON__33936 AM_34631 AM.txt\n",
      "854418\n",
      "D:/internship/Data/abhishek/mar 11\\ECGDataJSON__34632 AM_34639 AM.txt\n",
      "14448\n",
      "D:/internship/Data/abhishek/mar 11\\ECGDataJSON__34640 AM_34855 AM.txt\n",
      "277827\n",
      "D:/internship/Data/abhishek/mar 11\\ECGDataJSON__34856 AM_34903 AM.txt\n",
      "15161\n",
      "D:/internship/Data/abhishek/mar 11\\ECGDataJSON__34904 AM_35511 AM.txt\n",
      "D:/internship/Data/abhishek/mar 11\\ECGDataJSON__35512 AM_35519 AM.txt\n",
      "D:/internship/Data/abhishek/mar 11\\ECGDataJSON__35520 AM_35559 AM.txt\n",
      "D:/internship/Data/abhishek/mar 11\\ECGDataJSON__35600 AM_35615 AM.txt\n",
      "D:/internship/Data/abhishek/mar 11\\ECGDataJSON__35616 AM_35855 AM.txt\n",
      "D:/internship/Data/abhishek/mar 11\\ECGDataJSON__35856 AM_35919 AM.txt\n",
      "D:/internship/Data/abhishek/mar 11\\ECGDataJSON__35920 AM_40255 AM.txt\n",
      "D:/internship/Data/abhishek/mar 11\\ECGDataJSON__40256 AM_40303 AM.txt\n",
      "D:/internship/Data/abhishek/mar 11\\ECGDataJSON__40304 AM_40407 AM.txt\n",
      "D:/internship/Data/abhishek/mar 11\\ECGDataJSON__40408 AM_40431 AM.txt\n",
      "D:/internship/Data/abhishek/mar 11\\ECGDataJSON__40432 AM_40607 AM.txt\n",
      "D:/internship/Data/abhishek/mar 11\\ECGDataJSON__40608 AM_40615 AM.txt\n",
      "D:/internship/Data/abhishek/mar 11\\ECGDataJSON__40616 AM_40723 AM.txt\n",
      "D:/internship/Data/abhishek/mar 11\\ECGDataJSON__40724 AM_40751 AM.txt\n",
      "D:/internship/Data/abhishek/mar 11\\ECGDataJSON__40752 AM_40831 AM.txt\n",
      "D:/internship/Data/abhishek/mar 11\\ECGDataJSON__40832 AM_40851 AM.txt\n",
      "D:/internship/Data/abhishek/mar 11\\ECGDataJSON__40852 AM_40911 AM.txt\n",
      "D:/internship/Data/abhishek/mar 11\\ECGDataJSON__40912 AM_40927 AM.txt\n",
      "D:/internship/Data/abhishek/mar 11\\ECGDataJSON__40928 AM_40959 AM.txt\n",
      "D:/internship/Data/abhishek/mar 11\\ECGDataJSON__41000 AM_41007 AM.txt\n",
      "D:/internship/Data/abhishek/mar 11\\ECGDataJSON__41008 AM_41127 AM.txt\n",
      "D:/internship/Data/abhishek/mar 11\\ECGDataJSON__41128 AM_41135 AM.txt\n",
      "D:/internship/Data/abhishek/mar 11\\ECGDataJSON__41136 AM_41231 AM.txt\n",
      "D:/internship/Data/abhishek/mar 11\\ECGDataJSON__41232 AM_41244 AM.txt\n",
      "D:/internship/Data/abhishek/mar 11\\ECGDataJSON__41245 AM_41319 AM.txt\n",
      "D:/internship/Data/abhishek/mar 11\\ECGDataJSON__41320 AM_41343 AM.txt\n",
      "D:/internship/Data/abhishek/mar 11\\ECGDataJSON__41344 AM_41407 AM.txt\n",
      "D:/internship/Data/abhishek/mar 11\\ECGDataJSON__41408 AM_41423 AM.txt\n",
      "D:/internship/Data/abhishek/mar 11\\ECGDataJSON__41424 AM_41439 AM.txt\n",
      "D:/internship/Data/abhishek/mar 11\\ECGDataJSON__41440 AM_41447 AM.txt\n",
      "D:/internship/Data/abhishek/mar 11\\ECGDataJSON__41448 AM_42535 AM.txt\n",
      "D:/internship/Data/abhishek/mar 11\\ECGDataJSON__42536 AM_42628 AM.txt\n",
      "D:/internship/Data/abhishek/mar 11\\ECGDataJSON__42630 AM_42655 AM.txt\n",
      "D:/internship/Data/abhishek/mar 11\\ECGDataJSON__42656 AM_42711 AM.txt\n",
      "D:/internship/Data/abhishek/mar 11\\ECGDataJSON__42712 AM_42751 AM.txt\n",
      "D:/internship/Data/abhishek/mar 11\\ECGDataJSON__42752 AM_42951 AM.txt\n",
      "D:/internship/Data/abhishek/mar 11\\ECGDataJSON__42952 AM_43007 AM.txt\n",
      "D:/internship/Data/abhishek/mar 11\\ECGDataJSON__43008 AM_43127 AM.txt\n",
      "D:/internship/Data/abhishek/mar 11\\ECGDataJSON__43128 AM_43151 AM.txt\n",
      "D:/internship/Data/abhishek/mar 11\\ECGDataJSON__43152 AM_43511 AM.txt\n",
      "D:/internship/Data/abhishek/mar 11\\ECGDataJSON__43512 AM_43535 AM.txt\n",
      "D:/internship/Data/abhishek/mar 11\\ECGDataJSON__43536 AM_43727 AM.txt\n",
      "D:/internship/Data/abhishek/mar 11\\ECGDataJSON__43728 AM_43759 AM.txt\n",
      "D:/internship/Data/abhishek/mar 11\\ECGDataJSON__43800 AM_43847 AM.txt\n",
      "D:/internship/Data/abhishek/mar 11\\ECGDataJSON__43848 AM_43911 AM.txt\n",
      "D:/internship/Data/abhishek/mar 11\\ECGDataJSON__43912 AM_44023 AM.txt\n",
      "D:/internship/Data/abhishek/mar 11\\ECGDataJSON__44024 AM_44223 AM.txt\n",
      "D:/internship/Data/abhishek/mar 11\\ECGDataJSON__44224 AM_44839 AM.txt\n",
      "D:/internship/Data/abhishek/mar 11\\ECGDataJSON__44840 AM_44927 AM.txt\n",
      "D:/internship/Data/abhishek/mar 11\\ECGDataJSON__44928 AM_44951 AM.txt\n",
      "D:/internship/Data/abhishek/mar 11\\ECGDataJSON__44952 AM_45031 AM.txt\n",
      "D:/internship/Data/abhishek/mar 11\\ECGDataJSON__45032 AM_45207 AM.txt\n",
      "D:/internship/Data/abhishek/mar 11\\ECGDataJSON__45208 AM_45231 AM.txt\n",
      "D:/internship/Data/abhishek/mar 11\\ECGDataJSON__45232 AM_50207 AM.txt\n",
      "D:/internship/Data/abhishek/mar 11\\ECGDataJSON__50208 AM_50303 AM.txt\n",
      "D:/internship/Data/abhishek/mar 11\\ECGDataJSON__50304 AM_50423 AM.txt\n",
      "D:/internship/Data/abhishek/mar 11\\ECGDataJSON__50424 AM_50439 AM.txt\n",
      "D:/internship/Data/abhishek/mar 11\\ECGDataJSON__50440 AM_50455 AM.txt\n",
      "D:/internship/Data/abhishek/mar 11\\ECGDataJSON__50456 AM_50639 AM.txt\n",
      "D:/internship/Data/abhishek/mar 11\\ECGDataJSON__50640 AM_50655 AM.txt\n",
      "D:/internship/Data/abhishek/mar 11\\ECGDataJSON__50656 AM_50727 AM.txt\n",
      "D:/internship/Data/abhishek/mar 11\\ECGDataJSON__50728 AM_50911 AM.txt\n",
      "D:/internship/Data/abhishek/mar 11\\ECGDataJSON__50912 AM_50935 AM.txt\n",
      "D:/internship/Data/abhishek/mar 11\\ECGDataJSON__50936 AM_51031 AM.txt\n",
      "D:/internship/Data/abhishek/mar 11\\ECGDataJSON__51032 AM_51239 AM.txt\n",
      "D:/internship/Data/abhishek/mar 11\\ECGDataJSON__51240 AM_51359 AM.txt\n",
      "D:/internship/Data/abhishek/mar 11\\ECGDataJSON__51400 AM_51447 AM.txt\n",
      "D:/internship/Data/abhishek/mar 11\\ECGDataJSON__51448 AM_51535 AM.txt\n",
      "D:/internship/Data/abhishek/mar 11\\ECGDataJSON__51536 AM_51631 AM.txt\n",
      "D:/internship/Data/abhishek/mar 11\\ECGDataJSON__51632 AM_52135 AM.txt\n",
      "D:/internship/Data/abhishek/mar 11\\ECGDataJSON__52136 AM_52231 AM.txt\n",
      "D:/internship/Data/abhishek/mar 11\\ECGDataJSON__52232 AM_52439 AM.txt\n",
      "D:/internship/Data/abhishek/mar 11\\ECGDataJSON__52440 AM_52455 AM.txt\n",
      "D:/internship/Data/abhishek/mar 11\\ECGDataJSON__52456 AM_52919 AM.txt\n",
      "D:/internship/Data/abhishek/mar 11\\ECGDataJSON__52920 AM_52943 AM.txt\n",
      "D:/internship/Data/abhishek/mar 11\\ECGDataJSON__52944 AM_53119 AM.txt\n",
      "D:/internship/Data/abhishek/mar 11\\ECGDataJSON__53120 AM_53135 AM.txt\n",
      "D:/internship/Data/abhishek/mar 11\\ECGDataJSON__53136 AM_53159 AM.txt\n",
      "D:/internship/Data/abhishek/mar 11\\ECGDataJSON__53200 AM_53223 AM.txt\n",
      "D:/internship/Data/abhishek/mar 11\\ECGDataJSON__53224 AM_53319 AM.txt\n",
      "D:/internship/Data/abhishek/mar 11\\ECGDataJSON__53320 AM_53327 AM.txt\n",
      "D:/internship/Data/abhishek/mar 11\\ECGDataJSON__53328 AM_53439 AM.txt\n",
      "D:/internship/Data/abhishek/mar 11\\ECGDataJSON__53440 AM_53743 AM.txt\n",
      "D:/internship/Data/abhishek/mar 11\\ECGDataJSON__53744 AM_53759 AM.txt\n",
      "D:/internship/Data/abhishek/mar 11\\ECGDataJSON__53800 AM_53903 AM.txt\n",
      "D:/internship/Data/abhishek/mar 11\\ECGDataJSON__53904 AM_54015 AM.txt\n",
      "D:/internship/Data/abhishek/mar 11\\ECGDataJSON__54016 AM_54039 AM.txt\n",
      "D:/internship/Data/abhishek/mar 11\\ECGDataJSON__54040 AM_54103 AM.txt\n",
      "D:/internship/Data/abhishek/mar 11\\ECGDataJSON__54104 AM_54135 AM.txt\n",
      "D:/internship/Data/abhishek/mar 11\\ECGDataJSON__54136 AM_54223 AM.txt\n",
      "D:/internship/Data/abhishek/mar 11\\ECGDataJSON__54224 AM_54319 AM.txt\n",
      "D:/internship/Data/abhishek/mar 11\\ECGDataJSON__54320 AM_54951 AM.txt\n",
      "D:/internship/Data/abhishek/mar 11\\ECGDataJSON__54952 AM_55007 AM.txt\n",
      "D:/internship/Data/abhishek/mar 11\\ECGDataJSON__55008 AM_55111 AM.txt\n",
      "D:/internship/Data/abhishek/mar 11\\ECGDataJSON__55112 AM_55135 AM.txt\n",
      "D:/internship/Data/abhishek/mar 11\\ECGDataJSON__55136 AM_55255 AM.txt\n",
      "D:/internship/Data/abhishek/mar 11\\ECGDataJSON__55256 AM_55519 AM.txt\n",
      "D:/internship/Data/abhishek/mar 11\\ECGDataJSON__55520 AM_55807 AM.txt\n",
      "D:/internship/Data/abhishek/mar 11\\ECGDataJSON__55808 AM_55839 AM.txt\n",
      "D:/internship/Data/abhishek/mar 11\\ECGDataJSON__55840 AM_55847 AM.txt\n",
      "D:/internship/Data/abhishek/mar 11\\ECGDataJSON__55848 AM_55929 AM.txt\n",
      "D:/internship/Data/abhishek/mar 11\\ECGDataJSON__55930 AM_60007 AM.txt\n",
      "D:/internship/Data/abhishek/mar 11\\ECGDataJSON__60008 AM_60119 AM.txt\n",
      "D:/internship/Data/abhishek/mar 11\\ECGDataJSON__60120 AM_60130 AM.txt\n",
      "D:/internship/Data/abhishek/mar 11\\ECGDataJSON__60131 AM_60303 AM.txt\n",
      "D:/internship/Data/abhishek/mar 11\\ECGDataJSON__60304 AM_60359 AM.txt\n",
      "D:/internship/Data/abhishek/mar 11\\ECGDataJSON__60400 AM_60455 AM.txt\n",
      "D:/internship/Data/abhishek/mar 11\\ECGDataJSON__60456 AM_60559 AM.txt\n",
      "D:/internship/Data/abhishek/mar 11\\ECGDataJSON__60600 AM_60631 AM.txt\n",
      "D:/internship/Data/abhishek/mar 11\\ECGDataJSON__60632 AM_60815 AM.txt\n",
      "D:/internship/Data/abhishek/mar 11\\ECGDataJSON__60816 AM_62743 AM.txt\n",
      "D:/internship/Data/abhishek/mar 11\\ECGDataJSON__62744 AM_62823 AM.txt\n",
      "D:/internship/Data/abhishek/mar 11\\ECGDataJSON__62824 AM_63439 AM.txt\n",
      "D:/internship/Data/abhishek/mar 11\\ECGDataJSON__63440 AM_63535 AM.txt\n",
      "D:/internship/Data/abhishek/mar 11\\ECGDataJSON__63536 AM_63607 AM.txt\n",
      "D:/internship/Data/abhishek/mar 11\\ECGDataJSON__63608 AM_63727 AM.txt\n",
      "D:/internship/Data/abhishek/mar 11\\ECGDataJSON__63728 AM_63743 AM.txt\n",
      "D:/internship/Data/abhishek/mar 11\\ECGDataJSON__63744 AM_63815 AM.txt\n",
      "D:/internship/Data/abhishek/mar 11\\ECGDataJSON__63816 AM_63847 AM.txt\n",
      "D:/internship/Data/abhishek/mar 11\\ECGDataJSON__63848 AM_63919 AM.txt\n",
      "D:/internship/Data/abhishek/mar 11\\ECGDataJSON__63920 AM_63935 AM.txt\n",
      "D:/internship/Data/abhishek/mar 11\\ECGDataJSON__63936 AM_63951 AM.txt\n",
      "D:/internship/Data/abhishek/mar 11\\ECGDataJSON__63952 AM_64103 AM.txt\n",
      "D:/internship/Data/abhishek/mar 11\\ECGDataJSON__64104 AM_64135 AM.txt\n",
      "D:/internship/Data/abhishek/mar 11\\ECGDataJSON__64105 AM_64159 AM.txt\n",
      "D:/internship/Data/abhishek/mar 11\\ECGDataJSON__64136 AM_64149 AM.txt\n",
      "D:/internship/Data/abhishek/mar 11\\ECGDataJSON__64200 AM_64215 AM.txt\n",
      "D:/internship/Data/abhishek/mar 11\\ECGDataJSON__64216 AM_64415 AM.txt\n",
      "D:/internship/Data/abhishek/mar 11\\ECGDataJSON__64416 AM_64427 AM.txt\n",
      "D:/internship/Data/abhishek/mar 11\\ECGDataJSON__64428 AM_64527 AM.txt\n",
      "D:/internship/Data/abhishek/mar 11\\ECGDataJSON__64528 AM_64543 AM.txt\n",
      "D:/internship/Data/abhishek/mar 11\\ECGDataJSON__64544 AM_64647 AM.txt\n",
      "D:/internship/Data/abhishek/mar 11\\ECGDataJSON__64648 AM_64711 AM.txt\n",
      "D:/internship/Data/abhishek/mar 11\\ECGDataJSON__64712 AM_64807 AM.txt\n",
      "D:/internship/Data/abhishek/mar 11\\ECGDataJSON__64808 AM_64815 AM.txt\n",
      "D:/internship/Data/abhishek/mar 11\\ECGDataJSON__64816 AM_64959 AM.txt\n",
      "D:/internship/Data/abhishek/mar 11\\ECGDataJSON__65000 AM_65247 AM.txt\n",
      "D:/internship/Data/abhishek/mar 11\\ECGDataJSON__65248 AM_65655 AM.txt\n",
      "D:/internship/Data/abhishek/mar 11\\ECGDataJSON__65656 AM_65727 AM.txt\n",
      "D:/internship/Data/abhishek/mar 11\\ECGDataJSON__65728 AM_70311 AM.txt\n",
      "D:/internship/Data/abhishek/mar 11\\ECGDataJSON__70312 AM_70319 AM.txt\n",
      "D:/internship/Data/abhishek/mar 11\\ECGDataJSON__70320 AM_71031 AM.txt\n",
      "D:/internship/Data/abhishek/mar 11\\ECGDataJSON__71032 AM_71039 AM.txt\n",
      "D:/internship/Data/abhishek/mar 11\\ECGDataJSON__71040 AM_71055 AM.txt\n",
      "D:/internship/Data/abhishek/mar 11\\ECGDataJSON__71056 AM_71127 AM.txt\n",
      "D:/internship/Data/abhishek/mar 11\\ECGDataJSON__71128 AM_71247 AM.txt\n",
      "D:/internship/Data/abhishek/mar 11\\ECGDataJSON__71248 AM_71319 AM.txt\n",
      "D:/internship/Data/abhishek/mar 11\\ECGDataJSON__71320 AM_71431 AM.txt\n",
      "D:/internship/Data/abhishek/mar 11\\ECGDataJSON__71432 AM_71439 AM.txt\n",
      "D:/internship/Data/abhishek/mar 11\\ECGDataJSON__71440 AM_71503 AM.txt\n",
      "D:/internship/Data/abhishek/mar 11\\ECGDataJSON__71504 AM_71623 AM.txt\n",
      "D:/internship/Data/abhishek/mar 11\\ECGDataJSON__71624 AM_71631 AM.txt\n",
      "D:/internship/Data/abhishek/mar 11\\ECGDataJSON__71644 AM_71655 AM.txt\n",
      "D:/internship/Data/abhishek/mar 11\\ECGDataJSON__71656 AM_71759 AM.txt\n",
      "D:/internship/Data/abhishek/mar 11\\ECGDataJSON__71800 AM_73527 AM.txt\n",
      "D:/internship/Data/abhishek/mar 11\\ECGDataJSON__73528 AM_73539 AM.txt\n",
      "D:/internship/Data/abhishek/mar 11\\ECGDataJSON__73540 AM_73703 AM.txt\n",
      "D:/internship/Data/abhishek/mar 11\\ECGDataJSON__73704 AM_73759 AM.txt\n",
      "D:/internship/Data/abhishek/mar 11\\ECGDataJSON__73800 AM_73831 AM.txt\n",
      "D:/internship/Data/abhishek/mar 11\\ECGDataJSON__73832 AM_73855 AM.txt\n",
      "D:/internship/Data/abhishek/mar 11\\ECGDataJSON__73856 AM_73911 AM.txt\n",
      "D:/internship/Data/abhishek/mar 11\\ECGDataJSON__73912 AM_73935 AM.txt\n",
      "D:/internship/Data/abhishek/mar 11\\ECGDataJSON__73936 AM_73943 AM.txt\n",
      "D:/internship/Data/abhishek/mar 11\\ECGDataJSON__73944 AM_73951 AM.txt\n",
      "D:/internship/Data/abhishek/mar 11\\ECGDataJSON__73952 AM_74359 AM.txt\n",
      "D:/internship/Data/abhishek/mar 11\\ECGDataJSON__74400 AM_74411 AM.txt\n",
      "D:/internship/Data/abhishek/mar 11\\ECGDataJSON__74412 AM_74839 AM.txt\n",
      "D:/internship/Data/abhishek/mar 11\\ECGDataJSON__74840 AM_74909 AM.txt\n",
      "D:/internship/Data/abhishek/mar 11\\ECGDataJSON__74910 AM_75039 AM.txt\n",
      "D:/internship/Data/abhishek/mar 11\\ECGDataJSON__75040 AM_75207 AM.txt\n",
      "D:/internship/Data/abhishek/mar 11\\ECGDataJSON__75208 AM_75215 AM.txt\n",
      "D:/internship/Data/abhishek/mar 11\\ECGDataJSON__75216 AM_75447 AM.txt\n",
      "D:/internship/Data/abhishek/mar 11\\ECGDataJSON__75448 AM_75951 AM.txt\n",
      "D:/internship/Data/abhishek/mar 11\\ECGDataJSON__75952 AM_80359 AM.txt\n",
      "D:/internship/Data/abhishek/mar 11\\ECGDataJSON__80400 AM_80807 AM.txt\n",
      "D:/internship/Data/abhishek/mar 11\\ECGDataJSON__80808 AM_80935 AM.txt\n",
      "D:/internship/Data/abhishek/mar 11\\ECGDataJSON__80936 AM_81159 AM.txt\n",
      "D:/internship/Data/abhishek/mar 11\\ECGDataJSON__81200 AM_81215 AM.txt\n",
      "D:/internship/Data/abhishek/mar 11\\ECGDataJSON__81216 AM_81223 AM.txt\n",
      "D:/internship/Data/abhishek/mar 11\\ECGDataJSON__81224 AM_81439 AM.txt\n",
      "D:/internship/Data/abhishek/mar 11\\ECGDataJSON__81440 AM_81911 AM.txt\n",
      "D:/internship/Data/abhishek/mar 11\\ECGDataJSON__81912 AM_81943 AM.txt\n",
      "D:/internship/Data/abhishek/mar 11\\ECGDataJSON__81944 AM_82647 AM.txt\n",
      "D:/internship/Data/abhishek/mar 11\\ECGDataJSON__82648 AM_82703 AM.txt\n",
      "D:/internship/Data/abhishek/mar 11\\ECGDataJSON__82704 AM_82743 AM.txt\n",
      "D:/internship/Data/abhishek/mar 11\\ECGDataJSON__82744 AM_82919 AM.txt\n",
      "D:/internship/Data/abhishek/mar 11\\ECGDataJSON__82920 AM_83223 AM.txt\n",
      "D:/internship/Data/abhishek/mar 11\\ECGDataJSON__83224 AM_83303 AM.txt\n",
      "D:/internship/Data/abhishek/mar 11\\ECGDataJSON__83304 AM_83927 AM.txt\n",
      "D:/internship/Data/abhishek/mar 11\\ECGDataJSON__83928 AM_84007 AM.txt\n",
      "D:/internship/Data/abhishek/mar 11\\ECGDataJSON__84008 AM_84655 AM.txt\n",
      "D:/internship/Data/abhishek/mar 11\\ECGDataJSON__84656 AM_90207 AM.txt\n",
      "D:/internship/Data/abhishek/mar 11\\ECGDataJSON__90208 AM_90220 AM.txt\n",
      "D:/internship/Data/abhishek/mar 11\\ECGDataJSON__90221 AM_90719 AM.txt\n",
      "D:/internship/Data/abhishek/mar 11\\ECGDataJSON__90720 AM_90735 AM.txt\n",
      "D:/internship/Data/abhishek/mar 11\\ECGDataJSON__90736 AM_90847 AM.txt\n",
      "D:/internship/Data/abhishek/mar 11\\ECGDataJSON__90848 AM_90855 AM.txt\n",
      "D:/internship/Data/abhishek/mar 11\\ECGDataJSON__90856 AM_90911 AM.txt\n",
      "D:/internship/Data/abhishek/mar 11\\ECGDataJSON__90912 AM_91302 AM.txt\n",
      "D:/internship/Data/abhishek/mar 11\\ECGDataJSON__91303 AM_91558 AM.txt\n",
      "D:/internship/Data/abhishek/mar 11\\ECGDataJSON__91559 AM_91622 AM.txt\n",
      "D:/internship/Data/abhishek/mar 11\\ECGDataJSON__91623 AM_91926 AM.txt\n",
      "D:/internship/Data/abhishek/mar 11\\ECGDataJSON__91927 AM_92310 AM.txt\n",
      "D:/internship/Data/abhishek/mar 11\\ECGDataJSON__92311 AM_92430 AM.txt\n",
      "D:/internship/Data/abhishek/mar 11\\ECGDataJSON__92431 AM_92438 AM.txt\n",
      "D:/internship/Data/abhishek/mar 11\\ECGDataJSON__92439 AM_92526 AM.txt\n",
      "D:/internship/Data/abhishek/mar 11\\ECGDataJSON__92527 AM_92606 AM.txt\n",
      "D:/internship/Data/abhishek/mar 11\\ECGDataJSON__92607 AM_92638 AM.txt\n",
      "D:/internship/Data/abhishek/mar 11\\ECGDataJSON__92639 AM_93854 AM.txt\n",
      "D:/internship/Data/abhishek/mar 11\\ECGDataJSON__93855 AM_93926 AM.txt\n",
      "D:/internship/Data/abhishek/mar 11\\ECGDataJSON__93927 AM_94030 AM.txt\n",
      "D:/internship/Data/abhishek/mar 11\\ECGDataJSON__94031 AM_94118 AM.txt\n",
      "D:/internship/Data/abhishek/mar 11\\ECGDataJSON__94119 AM_94338 AM.txt\n",
      "D:/internship/Data/abhishek/mar 11\\ECGDataJSON__94339 AM_94718 AM.txt\n",
      "D:/internship/Data/abhishek/mar 11\\ECGDataJSON__94719 AM_94958 AM.txt\n",
      "D:/internship/Data/abhishek/mar 11\\ECGDataJSON__94959 AM_95726 AM.txt\n",
      "D:/internship/Data/abhishek/mar 11\\ECGDataJSON__95727 AM_95822 AM.txt\n",
      "D:/internship/Data/abhishek/mar 11\\ECGDataJSON__95823 AM_95854 AM.txt\n",
      "D:/internship/Data/abhishek/mar 11\\ECGDataJSON__95855 AM_100030 AM.txt\n",
      "D:/internship/Data/abhishek/mar 11\\ECGDataJSON__100031 AM_100334 AM.txt\n",
      "D:/internship/Data/abhishek/mar 11\\ECGDataJSON__100335 AM_100505 AM.txt\n",
      "64716\n",
      "D:/internship/Data/abhishek/mar 11\\ECGDataJSON__100506 AM_100801 AM.txt\n",
      "365251\n",
      "D:/internship/Data/abhishek/mar 11\\ECGDataJSON__100802 AM_100817 AM.txt\n",
      "31906\n",
      "D:/internship/Data/abhishek/mar 11\\ECGDataJSON__100818 AM_100929 AM.txt\n",
      "146710\n",
      "D:/internship/Data/abhishek/mar 11\\ECGDataJSON__100930 AM_101457 AM.txt\n",
      "683403\n",
      "D:/internship/Data/abhishek/mar 11\\ECGDataJSON__101458 AM_101729 AM.txt\n",
      "318383\n",
      "D:/internship/Data/abhishek/mar 11\\ECGDataJSON__101730 AM_101937 AM.txt\n",
      "265647\n",
      "D:/internship/Data/abhishek/mar 11\\ECGDataJSON__101938 AM_102305 AM.txt\n",
      "429653\n",
      "D:/internship/Data/abhishek/mar 11\\ECGDataJSON__102306 AM_102313 AM.txt\n",
      "14203\n",
      "D:/internship/Data/abhishek/mar 11\\ECGDataJSON__102314 AM_103521 AM.txt\n",
      "1508279\n",
      "D:/internship/Data/abhishek/mar 11\\ECGDataJSON__103522 AM_103553 AM.txt\n",
      "65682\n",
      "D:/internship/Data/abhishek/mar 11\\ECGDataJSON__103554 AM_105513 AM.txt\n",
      "2400172\n",
      "D:/internship/Data/abhishek/mar 11\\ECGDataJSON__105514 AM_105601 AM.txt\n",
      "96684\n",
      "D:/internship/Data/abhishek/mar 11\\ECGDataJSON__105602 AM_112145 AM.txt\n",
      "3184236\n",
      "D:/internship/Data/abhishek/mar 11\\ECGDataJSON__112146 AM_112201 AM.txt\n",
      "30608\n",
      "D:/internship/Data/abhishek/mar 11\\ECGDataJSON__112202 AM_112241 AM.txt\n",
      "79908\n",
      "D:/internship/Data/abhishek/mar 11\\ECGDataJSON__112242 AM_112913 AM.txt\n",
      "814784\n",
      "D:/internship/Data/abhishek/mar 11\\ECGDataJSON__112914 AM_113049 AM.txt\n",
      "196133\n",
      "D:/internship/Data/abhishek/mar 11\\ECGDataJSON__113050 AM_113105 AM.txt\n",
      "31477\n",
      "D:/internship/Data/abhishek/mar 11\\ECGDataJSON__113106 AM_113153 AM.txt\n",
      "98998\n",
      "D:/internship/Data/abhishek/mar 11\\ECGDataJSON__113154 AM_113409 AM.txt\n",
      "282188\n",
      "D:/internship/Data/abhishek/mar 11\\ECGDataJSON__113410 AM_113603 AM.txt\n",
      "110744\n",
      "D:/internship/Data/abhishek/mar 11\\ECGDataJSON__113604 AM_115719 AM.txt\n",
      "1226385\n",
      "D:/internship/Data/abhishek/mar 11\\ECGDataJSON__115720 AM_115735 AM.txt\n",
      "30888\n",
      "D:/internship/Data/abhishek/mar 11\\ECGDataJSON__115736 AM_115959 AM.txt\n",
      "299204\n",
      "D:/internship/Data/abhishek/mar 11\\ECGDataJSON__120000 PM_120015 PM.txt\n",
      "31984\n",
      "D:/internship/Data/abhishek/mar 11\\ECGDataJSON__120016 PM_121239 PM.txt\n",
      "1539006\n",
      "D:/internship/Data/abhishek/mar 11\\ECGDataJSON__121240 PM_121303 PM.txt\n",
      "48105\n",
      "D:/internship/Data/abhishek/mar 11\\ECGDataJSON__121304 PM_121703 PM.txt\n",
      "498496\n",
      "D:/internship/Data/abhishek/mar 11\\ECGDataJSON__121704 PM_121735 PM.txt\n",
      "64250\n",
      "D:/internship/Data/abhishek/mar 11\\ECGDataJSON__121736 PM_121807 PM.txt\n",
      "65476\n",
      "D:/internship/Data/abhishek/mar 11\\ECGDataJSON__121808 PM_121903 PM.txt\n",
      "115591\n",
      "D:/internship/Data/abhishek/mar 11\\ECGDataJSON__121904 PM_121919 PM.txt\n",
      "30990\n",
      "D:/internship/Data/abhishek/mar 11\\ECGDataJSON__121920 PM_121943 PM.txt\n",
      "48137\n",
      "D:/internship/Data/abhishek/mar 11\\ECGDataJSON__121944 PM_121959 PM.txt\n",
      "30497\n",
      "D:/internship/Data/abhishek/mar 11\\ECGDataJSON__122000 PM_122103 PM.txt\n",
      "132353\n",
      "D:/internship/Data/abhishek/mar 11\\ECGDataJSON__122104 PM_122135 PM.txt\n",
      "65736\n",
      "D:/internship/Data/abhishek/mar 11\\ECGDataJSON__122136 PM_122215 PM.txt\n",
      "82268\n",
      "D:/internship/Data/abhishek/mar 11\\ECGDataJSON__122216 PM_122239 PM.txt\n",
      "48254\n",
      "D:/internship/Data/abhishek/mar 11\\ECGDataJSON__122240 PM_122439 PM.txt\n",
      "250556\n",
      "D:/internship/Data/abhishek/mar 11\\ECGDataJSON__122440 PM_123047 PM.txt\n",
      "759631\n",
      "D:/internship/Data/abhishek/mar 11\\ECGDataJSON__123048 PM_123127 PM.txt\n",
      "82505\n",
      "D:/internship/Data/abhishek/mar 11\\ECGDataJSON__123128 PM_123223 PM.txt\n",
      "114154\n",
      "D:/internship/Data/abhishek/mar 11\\ECGDataJSON__123224 PM_123231 PM.txt\n",
      "15038\n",
      "D:/internship/Data/abhishek/mar 11\\ECGDataJSON__123232 PM_123631 PM.txt\n",
      "497529\n",
      "D:/internship/Data/abhishek/mar 11\\ECGDataJSON__123632 PM_123833 PM.txt\n",
      "165058\n",
      "D:/internship/Data/abhishek/mar 11\\ECGDataJSON__123834 PM_123841 PM.txt\n",
      "14188\n",
      "D:/internship/Data/abhishek/mar 11\\ECGDataJSON__123842 PM_123913 PM.txt\n",
      "64687\n",
      "D:/internship/Data/abhishek/mar 11\\ECGDataJSON__123914 PM_124017 PM.txt\n",
      "132209\n",
      "D:/internship/Data/abhishek/mar 11\\ECGDataJSON__124018 PM_124041 PM.txt\n",
      "48554\n",
      "D:/internship/Data/abhishek/mar 11\\ECGDataJSON__124042 PM_124121 PM.txt\n",
      "81796\n",
      "D:/internship/Data/abhishek/mar 11\\ECGDataJSON__124122 PM_10539 PM.txt\n",
      "2219321\n",
      "D:/internship/Data/abhishek/mar 11\\ECGDataJSON__10540 PM_11531 PM.txt\n",
      "1217177\n",
      "D:/internship/Data/abhishek/mar 11\\ECGDataJSON__11532 PM_11555 PM.txt\n",
      "47546\n",
      "D:/internship/Data/abhishek/mar 11\\ECGDataJSON__11556 PM_11651 PM.txt\n",
      "111213\n",
      "D:/internship/Data/abhishek/mar 11\\ECGDataJSON__11652 PM_11907 PM.txt\n",
      "283145\n",
      "D:/internship/Data/abhishek/mar 11\\ECGDataJSON__11908 PM_12651 PM.txt\n",
      "D:/internship/Data/abhishek/mar 11\\ECGDataJSON__12652 PM_12843 PM.txt\n",
      "233160\n",
      "D:/internship/Data/abhishek/mar 11\\ECGDataJSON__12844 PM_13011 PM.txt\n",
      "D:/internship/Data/abhishek/mar 11\\ECGDataJSON__13012 PM_13035 PM.txt\n",
      "D:/internship/Data/abhishek/mar 11\\ECGDataJSON__13036 PM_13555 PM.txt\n",
      "D:/internship/Data/abhishek/mar 11\\ECGDataJSON__13556 PM_13603 PM.txt\n",
      "D:/internship/Data/abhishek/mar 11\\ECGDataJSON__14508 PM_14611 PM.txt\n",
      "D:/internship/Data/abhishek/mar 11\\ECGDataJSON__14708 PM_14803 PM.txt\n",
      "D:/internship/Data/abhishek/mar 11\\ECGDataJSON__15502 PM_15821 PM.txt\n",
      "D:/internship/Data/abhishek/mar 11\\ECGDataJSON__33806 PM_33821 PM.txt\n",
      "D:/internship/Data/abhishek/mar 11\\ECGDataJSON__33822 PM_34301 PM.txt\n",
      "D:/internship/Data/abhishek/mar 11\\ECGDataJSON__34302 PM_34317 PM.txt\n",
      "D:/internship/Data/abhishek/mar 11\\ECGDataJSON__34318 PM_34405 PM.txt\n",
      "D:/internship/Data/abhishek/mar 11\\ECGDataJSON__34406 PM_34429 PM.txt\n",
      "D:/internship/Data/abhishek/mar 11\\ECGDataJSON__34430 PM_34525 PM.txt\n",
      "D:/internship/Data/abhishek/mar 11\\ECGDataJSON__34526 PM_34546 PM.txt\n",
      "D:/internship/Data/abhishek/mar 11\\ECGDataJSON__34547 PM_34605 PM.txt\n",
      "D:/internship/Data/abhishek/mar 11\\ECGDataJSON__34606 PM_34637 PM.txt\n",
      "D:/internship/Data/abhishek/mar 11\\ECGDataJSON__34638 PM_34725 PM.txt\n",
      "D:/internship/Data/abhishek/mar 11\\ECGDataJSON__34726 PM_34805 PM.txt\n",
      "D:/internship/Data/abhishek/mar 11\\ECGDataJSON__34806 PM_40221 PM.txt\n",
      "D:/internship/Data/abhishek/mar 11\\ECGDataJSON__40222 PM_40253 PM.txt\n",
      "D:/internship/Data/abhishek/mar 11\\ECGDataJSON__40254 PM_40349 PM.txt\n",
      "D:/internship/Data/abhishek/mar 11\\ECGDataJSON__40350 PM_40429 PM.txt\n",
      "D:/internship/Data/abhishek/mar 11\\ECGDataJSON__40430 PM_41117 PM.txt\n",
      "D:/internship/Data/abhishek/mar 11\\ECGDataJSON__41118 PM_41133 PM.txt\n",
      "D:/internship/Data/abhishek/mar 11\\ECGDataJSON__41134 PM_41725 PM.txt\n",
      "D:/internship/Data/abhishek/mar 11\\ECGDataJSON__41726 PM_41853 PM.txt\n",
      "D:/internship/Data/abhishek/mar 11\\ECGDataJSON__41854 PM_41917 PM.txt\n",
      "D:/internship/Data/abhishek/mar 11\\ECGDataJSON__41918 PM_42206 PM.txt\n",
      "D:/internship/Data/abhishek/mar 11\\ECGDataJSON__42207 PM_42214 PM.txt\n",
      "D:/internship/Data/abhishek/mar 11\\ECGDataJSON__42215 PM_42830 PM.txt\n",
      "D:/internship/Data/abhishek/mar 11\\ECGDataJSON__42831 PM_43318 PM.txt\n",
      "D:/internship/Data/abhishek/mar 11\\ECGDataJSON__43319 PM_43334 PM.txt\n",
      "D:/internship/Data/abhishek/mar 11\\ECGDataJSON__43335 PM_43622 PM.txt\n",
      "D:/internship/Data/abhishek/mar 11\\ECGDataJSON__43623 PM_43750 PM.txt\n",
      "D:/internship/Data/abhishek/mar 11\\ECGDataJSON__43751 PM_44014 PM.txt\n",
      "D:/internship/Data/abhishek/mar 11\\ECGDataJSON__44015 PM_44022 PM.txt\n",
      "D:/internship/Data/abhishek/mar 11\\ECGDataJSON__44023 PM_44118 PM.txt\n",
      "D:/internship/Data/abhishek/mar 11\\ECGDataJSON__44119 PM_44126 PM.txt\n",
      "D:/internship/Data/abhishek/mar 11\\ECGDataJSON__44127 PM_44214 PM.txt\n",
      "D:/internship/Data/abhishek/mar 11\\ECGDataJSON__44215 PM_44222 PM.txt\n",
      "D:/internship/Data/abhishek/mar 11\\ECGDataJSON__44223 PM_44318 PM.txt\n",
      "D:/internship/Data/abhishek/mar 11\\ECGDataJSON__44319 PM_44358 PM.txt\n",
      "D:/internship/Data/abhishek/mar 11\\ECGDataJSON__44359 PM_44726 PM.txt\n",
      "D:/internship/Data/abhishek/mar 11\\ECGDataJSON__44727 PM_44742 PM.txt\n",
      "D:/internship/Data/abhishek/mar 11\\ECGDataJSON__44743 PM_45006 PM.txt\n",
      "D:/internship/Data/abhishek/mar 11\\ECGDataJSON__45007 PM_45450 PM.txt\n",
      "D:/internship/Data/abhishek/mar 11\\ECGDataJSON__45451 PM_50110 PM.txt\n",
      "D:/internship/Data/abhishek/mar 11\\ECGDataJSON__50111 PM_50918 PM.txt\n",
      "D:/internship/Data/abhishek/mar 11\\ECGDataJSON__50919 PM_51846 PM.txt\n",
      "D:/internship/Data/abhishek/mar 11\\ECGDataJSON__51847 PM_51918 PM.txt\n",
      "D:/internship/Data/abhishek/mar 11\\ECGDataJSON__51919 PM_52038 PM.txt\n",
      "D:/internship/Data/abhishek/mar 11\\ECGDataJSON__52039 PM_52118 PM.txt\n",
      "D:/internship/Data/abhishek/mar 11\\ECGDataJSON__52119 PM_53206 PM.txt\n",
      "D:/internship/Data/abhishek/mar 11\\ECGDataJSON__53207 PM_53222 PM.txt\n",
      "D:/internship/Data/abhishek/mar 11\\ECGDataJSON__53223 PM_53318 PM.txt\n",
      "D:/internship/Data/abhishek/mar 11\\ECGDataJSON__53319 PM_53755 PM.txt\n",
      "D:/internship/Data/abhishek/mar 11\\ECGDataJSON__53756 PM_53931 PM.txt\n",
      "D:/internship/Data/abhishek/mar 11\\ECGDataJSON__53932 PM_54035 PM.txt\n",
      "D:/internship/Data/abhishek/mar 11\\ECGDataJSON__54036 PM_54139 PM.txt\n",
      "D:/internship/Data/abhishek/mar 11\\ECGDataJSON__54140 PM_54155 PM.txt\n",
      "D:/internship/Data/abhishek/mar 11\\ECGDataJSON__54156 PM_54211 PM.txt\n",
      "D:/internship/Data/abhishek/mar 11\\ECGDataJSON__54212 PM_54243 PM.txt\n",
      "D:/internship/Data/abhishek/mar 11\\ECGDataJSON__54244 PM_54411 PM.txt\n",
      "D:/internship/Data/abhishek/mar 11\\ECGDataJSON__54412 PM_54419 PM.txt\n",
      "D:/internship/Data/abhishek/mar 11\\ECGDataJSON__54420 PM_54531 PM.txt\n",
      "D:/internship/Data/abhishek/mar 11\\ECGDataJSON__54532 PM_54555 PM.txt\n",
      "D:/internship/Data/abhishek/mar 11\\ECGDataJSON__54556 PM_54603 PM.txt\n",
      "D:/internship/Data/abhishek/mar 11\\ECGDataJSON__54604 PM_54619 PM.txt\n",
      "D:/internship/Data/abhishek/mar 11\\ECGDataJSON__54620 PM_54827 PM.txt\n",
      "D:/internship/Data/abhishek/mar 11\\ECGDataJSON__54828 PM_54835 PM.txt\n",
      "D:/internship/Data/abhishek/mar 11\\ECGDataJSON__54836 PM_55027 PM.txt\n",
      "D:/internship/Data/abhishek/mar 11\\ECGDataJSON__55028 PM_55203 PM.txt\n",
      "D:/internship/Data/abhishek/mar 11\\ECGDataJSON__55204 PM_55243 PM.txt\n",
      "D:/internship/Data/abhishek/mar 11\\ECGDataJSON__55244 PM_55323 PM.txt\n",
      "D:/internship/Data/abhishek/mar 11\\ECGDataJSON__55324 PM_55435 PM.txt\n",
      "D:/internship/Data/abhishek/mar 11\\ECGDataJSON__55436 PM_55707 PM.txt\n",
      "D:/internship/Data/abhishek/mar 11\\ECGDataJSON__55708 PM_60035 PM.txt\n",
      "D:/internship/Data/abhishek/mar 11\\ECGDataJSON__60036 PM_60123 PM.txt\n",
      "D:/internship/Data/abhishek/mar 11\\ECGDataJSON__60124 PM_60139 PM.txt\n",
      "D:/internship/Data/abhishek/mar 11\\ECGDataJSON__60140 PM_60427 PM.txt\n",
      "D:/internship/Data/abhishek/mar 11\\ECGDataJSON__60428 PM_60515 PM.txt\n",
      "D:/internship/Data/abhishek/mar 11\\ECGDataJSON__60516 PM_60619 PM.txt\n",
      "D:/internship/Data/abhishek/mar 11\\ECGDataJSON__60620 PM_60915 PM.txt\n",
      "D:/internship/Data/abhishek/mar 11\\ECGDataJSON__60916 PM_61019 PM.txt\n",
      "D:/internship/Data/abhishek/mar 11\\ECGDataJSON__61020 PM_61107 PM.txt\n",
      "D:/internship/Data/abhishek/mar 11\\ECGDataJSON__61108 PM_61251 PM.txt\n",
      "D:/internship/Data/abhishek/mar 11\\ECGDataJSON__61252 PM_61659 PM.txt\n",
      "D:/internship/Data/abhishek/mar 11\\ECGDataJSON__61700 PM_61915 PM.txt\n",
      "D:/internship/Data/abhishek/mar 11\\ECGDataJSON__61916 PM_61923 PM.txt\n",
      "D:/internship/Data/abhishek/mar 11\\ECGDataJSON__61924 PM_61939 PM.txt\n",
      "D:/internship/Data/abhishek/mar 11\\ECGDataJSON__61940 PM_62011 PM.txt\n",
      "D:/internship/Data/abhishek/mar 11\\ECGDataJSON__62012 PM_62427 PM.txt\n",
      "D:/internship/Data/abhishek/mar 11\\ECGDataJSON__62428 PM_62715 PM.txt\n",
      "D:/internship/Data/abhishek/mar 11\\ECGDataJSON__62716 PM_62803 PM.txt\n",
      "D:/internship/Data/abhishek/mar 11\\ECGDataJSON__62804 PM_62923 PM.txt\n",
      "D:/internship/Data/abhishek/mar 11\\ECGDataJSON__62924 PM_63147 PM.txt\n",
      "D:/internship/Data/abhishek/mar 11\\ECGDataJSON__63148 PM_63219 PM.txt\n",
      "D:/internship/Data/abhishek/mar 11\\ECGDataJSON__63220 PM_63235 PM.txt\n",
      "D:/internship/Data/abhishek/mar 11\\ECGDataJSON__63236 PM_63531 PM.txt\n",
      "D:/internship/Data/abhishek/mar 11\\ECGDataJSON__63532 PM_63555 PM.txt\n",
      "D:/internship/Data/abhishek/mar 11\\ECGDataJSON__63556 PM_64355 PM.txt\n",
      "D:/internship/Data/abhishek/mar 11\\ECGDataJSON__64356 PM_64419 PM.txt\n",
      "D:/internship/Data/abhishek/mar 11\\ECGDataJSON__64420 PM_64731 PM.txt\n",
      "D:/internship/Data/abhishek/mar 11\\ECGDataJSON__64732 PM_64811 PM.txt\n",
      "D:/internship/Data/abhishek/mar 11\\ECGDataJSON__64812 PM_65219 PM.txt\n",
      "D:/internship/Data/abhishek/mar 11\\ECGDataJSON__65220 PM_65331 PM.txt\n",
      "D:/internship/Data/abhishek/mar 11\\ECGDataJSON__65332 PM_65347 PM.txt\n",
      "D:/internship/Data/abhishek/mar 11\\ECGDataJSON__65348 PM_65651 PM.txt\n",
      "D:/internship/Data/abhishek/mar 11\\ECGDataJSON__65652 PM_65947 PM.txt\n",
      "D:/internship/Data/abhishek/mar 11\\ECGDataJSON__65948 PM_70019 PM.txt\n",
      "D:/internship/Data/abhishek/mar 11\\ECGDataJSON__70020 PM_70315 PM.txt\n",
      "D:/internship/Data/abhishek/mar 11\\ECGDataJSON__70316 PM_70419 PM.txt\n",
      "D:/internship/Data/abhishek/mar 11\\ECGDataJSON__70420 PM_70523 PM.txt\n",
      "D:/internship/Data/abhishek/mar 11\\ECGDataJSON__70524 PM_70811 PM.txt\n",
      "D:/internship/Data/abhishek/mar 11\\ECGDataJSON__70812 PM_70827 PM.txt\n",
      "D:/internship/Data/abhishek/mar 11\\ECGDataJSON__70828 PM_70923 PM.txt\n",
      "D:/internship/Data/abhishek/mar 11\\ECGDataJSON__70924 PM_71035 PM.txt\n",
      "D:/internship/Data/abhishek/mar 11\\ECGDataJSON__71036 PM_71059 PM.txt\n",
      "D:/internship/Data/abhishek/mar 11\\ECGDataJSON__71100 PM_71315 PM.txt\n",
      "D:/internship/Data/abhishek/mar 11\\ECGDataJSON__71316 PM_71323 PM.txt\n",
      "D:/internship/Data/abhishek/mar 11\\ECGDataJSON__71324 PM_71339 PM.txt\n",
      "D:/internship/Data/abhishek/mar 11\\ECGDataJSON__71340 PM_71403 PM.txt\n",
      "D:/internship/Data/abhishek/mar 11\\ECGDataJSON__71404 PM_71411 PM.txt\n",
      "D:/internship/Data/abhishek/mar 11\\ECGDataJSON__71412 PM_71443 PM.txt\n",
      "D:/internship/Data/abhishek/mar 11\\ECGDataJSON__71444 PM_71555 PM.txt\n",
      "D:/internship/Data/abhishek/mar 11\\ECGDataJSON__71556 PM_71635 PM.txt\n",
      "D:/internship/Data/abhishek/mar 11\\ECGDataJSON__71636 PM_71747 PM.txt\n",
      "D:/internship/Data/abhishek/mar 11\\ECGDataJSON__71748 PM_71803 PM.txt\n",
      "D:/internship/Data/abhishek/mar 11\\ECGDataJSON__71804 PM_71827 PM.txt\n",
      "D:/internship/Data/abhishek/mar 11\\ECGDataJSON__71828 PM_71851 PM.txt\n",
      "D:/internship/Data/abhishek/mar 11\\ECGDataJSON__71852 PM_71947 PM.txt\n",
      "D:/internship/Data/abhishek/mar 11\\ECGDataJSON__71948 PM_72051 PM.txt\n",
      "D:/internship/Data/abhishek/mar 11\\ECGDataJSON__72052 PM_72123 PM.txt\n",
      "D:/internship/Data/abhishek/mar 11\\ECGDataJSON__72124 PM_72211 PM.txt\n",
      "D:/internship/Data/abhishek/mar 11\\ECGDataJSON__72212 PM_72443 PM.txt\n",
      "D:/internship/Data/abhishek/mar 11\\ECGDataJSON__72444 PM_72547 PM.txt\n",
      "D:/internship/Data/abhishek/mar 11\\ECGDataJSON__72548 PM_72635 PM.txt\n",
      "D:/internship/Data/abhishek/mar 11\\ECGDataJSON__72636 PM_73115 PM.txt\n",
      "D:/internship/Data/abhishek/mar 11\\ECGDataJSON__73116 PM_73147 PM.txt\n",
      "D:/internship/Data/abhishek/mar 11\\ECGDataJSON__73148 PM_73251 PM.txt\n",
      "D:/internship/Data/abhishek/mar 11\\ECGDataJSON__73252 PM_73707 PM.txt\n",
      "D:/internship/Data/abhishek/mar 11\\ECGDataJSON__73708 PM_73747 PM.txt\n",
      "D:/internship/Data/abhishek/mar 11\\ECGDataJSON__73748 PM_74515 PM.txt\n",
      "D:/internship/Data/abhishek/mar 11\\ECGDataJSON__74516 PM_74531 PM.txt\n",
      "D:/internship/Data/abhishek/mar 11\\ECGDataJSON__74532 PM_74915 PM.txt\n",
      "D:/internship/Data/abhishek/mar 11\\ECGDataJSON__74916 PM_74923 PM.txt\n",
      "D:/internship/Data/abhishek/mar 11\\ECGDataJSON__74924 PM_74931 PM.txt\n",
      "D:/internship/Data/abhishek/mar 11\\ECGDataJSON__74932 PM_75003 PM.txt\n",
      "D:/internship/Data/abhishek/mar 11\\ECGDataJSON__75004 PM_75139 PM.txt\n",
      "D:/internship/Data/abhishek/mar 11\\ECGDataJSON__75140 PM_75251 PM.txt\n",
      "D:/internship/Data/abhishek/mar 11\\ECGDataJSON__75252 PM_75459 PM.txt\n",
      "D:/internship/Data/abhishek/mar 11\\ECGDataJSON__75500 PM_80059 PM.txt\n",
      "D:/internship/Data/abhishek/mar 11\\ECGDataJSON__80100 PM_80211 PM.txt\n",
      "D:/internship/Data/abhishek/mar 11\\ECGDataJSON__80212 PM_80259 PM.txt\n",
      "D:/internship/Data/abhishek/mar 11\\ECGDataJSON__80300 PM_80355 PM.txt\n",
      "D:/internship/Data/abhishek/mar 11\\ECGDataJSON__80356 PM_80851 PM.txt\n",
      "D:/internship/Data/abhishek/mar 11\\ECGDataJSON__80852 PM_80904 PM.txt\n",
      "D:/internship/Data/abhishek/mar 11\\ECGDataJSON__80905 PM_80915 PM.txt\n",
      "D:/internship/Data/abhishek/mar 11\\ECGDataJSON__80916 PM_81035 PM.txt\n",
      "D:/internship/Data/abhishek/mar 11\\ECGDataJSON__81036 PM_81513 PM.txt\n",
      "D:/internship/Data/abhishek/mar 11\\ECGDataJSON__81514 PM_81849 PM.txt\n",
      "D:/internship/Data/abhishek/mar 11\\ECGDataJSON__81850 PM_82153 PM.txt\n",
      "D:/internship/Data/abhishek/mar 11\\ECGDataJSON__82154 PM_82425 PM.txt\n",
      "D:/internship/Data/abhishek/mar 11\\ECGDataJSON__82426 PM_82657 PM.txt\n",
      "D:/internship/Data/abhishek/mar 11\\ECGDataJSON__82658 PM_82713 PM.txt\n",
      "D:/internship/Data/abhishek/mar 11\\ECGDataJSON__82714 PM_82841 PM.txt\n",
      "D:/internship/Data/abhishek/mar 11\\ECGDataJSON__82842 PM_83225 PM.txt\n",
      "D:/internship/Data/abhishek/mar 11\\ECGDataJSON__83226 PM_83321 PM.txt\n",
      "D:/internship/Data/abhishek/mar 11\\ECGDataJSON__83322 PM_84145 PM.txt\n",
      "D:/internship/Data/abhishek/mar 11\\ECGDataJSON__84146 PM_84209 PM.txt\n",
      "D:/internship/Data/abhishek/mar 11\\ECGDataJSON__84210 PM_84249 PM.txt\n",
      "D:/internship/Data/abhishek/mar 11\\ECGDataJSON__84250 PM_84401 PM.txt\n",
      "D:/internship/Data/abhishek/mar 11\\ECGDataJSON__84402 PM_84441 PM.txt\n",
      "D:/internship/Data/abhishek/mar 11\\ECGDataJSON__84442 PM_85009 PM.txt\n",
      "D:/internship/Data/abhishek/mar 11\\ECGDataJSON__85010 PM_85057 PM.txt\n",
      "D:/internship/Data/abhishek/mar 11\\ECGDataJSON__85058 PM_85233 PM.txt\n",
      "D:/internship/Data/abhishek/mar 11\\ECGDataJSON__85234 PM_90249 PM.txt\n",
      "D:/internship/Data/abhishek/mar 11\\ECGDataJSON__90250 PM_90313 PM.txt\n",
      "D:/internship/Data/abhishek/mar 11\\ECGDataJSON__90314 PM_90401 PM.txt\n",
      "D:/internship/Data/abhishek/mar 11\\ECGDataJSON__90402 PM_90433 PM.txt\n",
      "D:/internship/Data/abhishek/mar 11\\ECGDataJSON__90434 PM_90617 PM.txt\n",
      "D:/internship/Data/abhishek/mar 11\\ECGDataJSON__90618 PM_90633 PM.txt\n",
      "D:/internship/Data/abhishek/mar 11\\ECGDataJSON__90634 PM_90857 PM.txt\n",
      "D:/internship/Data/abhishek/mar 11\\ECGDataJSON__90858 PM_90937 PM.txt\n",
      "D:/internship/Data/abhishek/mar 11\\ECGDataJSON__90938 PM_91033 PM.txt\n",
      "D:/internship/Data/abhishek/mar 11\\ECGDataJSON__91034 PM_92001 PM.txt\n",
      "D:/internship/Data/abhishek/mar 11\\ECGDataJSON__92002 PM_92050 PM.txt\n",
      "D:/internship/Data/abhishek/mar 11\\ECGDataJSON__92051 PM_92306 PM.txt\n",
      "D:/internship/Data/abhishek/mar 11\\ECGDataJSON__92307 PM_92910 PM.txt\n",
      "D:/internship/Data/abhishek/mar 11\\ECGDataJSON__92911 PM_94110 PM.txt\n",
      "D:/internship/Data/abhishek/mar 11\\ECGDataJSON__94111 PM_94230 PM.txt\n",
      "D:/internship/Data/abhishek/mar 11\\ECGDataJSON__94231 PM_94534 PM.txt\n",
      "D:/internship/Data/abhishek/mar 11\\ECGDataJSON__94535 PM_94750 PM.txt\n",
      "D:/internship/Data/abhishek/mar 11\\ECGDataJSON__94751 PM_94910 PM.txt\n",
      "D:/internship/Data/abhishek/mar 11\\ECGDataJSON__94911 PM_94950 PM.txt\n",
      "D:/internship/Data/abhishek/mar 11\\ECGDataJSON__94951 PM_95638 PM.txt\n",
      "D:/internship/Data/abhishek/mar 11\\ECGDataJSON__95639 PM_95646 PM.txt\n",
      "D:/internship/Data/abhishek/mar 11\\ECGDataJSON__95647 PM_102135 PM.txt\n",
      "D:/internship/Data/abhishek/mar 11\\ECGDataJSON__102136 PM_102247 PM.txt\n",
      "D:/internship/Data/abhishek/mar 11\\ECGDataJSON__102248 PM_102527 PM.txt\n",
      "D:/internship/Data/abhishek/mar 11\\ECGDataJSON__102528 PM_102719 PM.txt\n",
      "D:/internship/Data/abhishek/mar 11\\ECGDataJSON__102720 PM_103347 PM.txt\n",
      "D:/internship/Data/abhishek/mar 11\\ECGDataJSON__103348 PM_103407 PM.txt\n",
      "D:/internship/Data/abhishek/mar 11\\ECGDataJSON__103408 PM_103527 PM.txt\n",
      "D:/internship/Data/abhishek/mar 11\\ECGDataJSON__103528 PM_103551 PM.txt\n",
      "D:/internship/Data/abhishek/mar 11\\ECGDataJSON__103552 PM_103623 PM.txt\n",
      "D:/internship/Data/abhishek/mar 11\\ECGDataJSON__103624 PM_103903 PM.txt\n",
      "D:/internship/Data/abhishek/mar 11\\ECGDataJSON__103904 PM_103927 PM.txt\n",
      "D:/internship/Data/abhishek/mar 11\\ECGDataJSON__103928 PM_104007 PM.txt\n",
      "D:/internship/Data/abhishek/mar 11\\ECGDataJSON__104008 PM_104039 PM.txt\n",
      "D:/internship/Data/abhishek/mar 11\\ECGDataJSON__104040 PM_104111 PM.txt\n",
      "D:/internship/Data/abhishek/mar 11\\ECGDataJSON__104112 PM_104300 PM.txt\n",
      "D:/internship/Data/abhishek/mar 11\\ECGDataJSON__104301 PM_104607 PM.txt\n",
      "D:/internship/Data/abhishek/mar 11\\ECGDataJSON__104608 PM_104619 PM.txt\n",
      "D:/internship/Data/abhishek/mar 11\\ECGDataJSON__104620 PM_104711 PM.txt\n",
      "D:/internship/Data/abhishek/mar 11\\ECGDataJSON__104712 PM_104810 PM.txt\n",
      "D:/internship/Data/abhishek/mar 11\\ECGDataJSON__104811 PM_104911 PM.txt\n",
      "D:/internship/Data/abhishek/mar 11\\ECGDataJSON__104912 PM_105055 PM.txt\n",
      "D:/internship/Data/abhishek/mar 11\\ECGDataJSON__105056 PM_105103 PM.txt\n",
      "D:/internship/Data/abhishek/mar 11\\ECGDataJSON__105104 PM_105305 PM.txt\n",
      "D:/internship/Data/abhishek/mar 11\\ECGDataJSON__105306 PM_105343 PM.txt\n",
      "D:/internship/Data/abhishek/mar 11\\ECGDataJSON__105344 PM_105415 PM.txt\n",
      "D:/internship/Data/abhishek/mar 11\\ECGDataJSON__105416 PM_105759 PM.txt\n",
      "D:/internship/Data/abhishek/mar 11\\ECGDataJSON__105800 PM_110631 PM.txt\n",
      "D:/internship/Data/abhishek/mar 11\\ECGDataJSON__110632 PM_110719 PM.txt\n",
      "D:/internship/Data/abhishek/mar 11\\ECGDataJSON__110720 PM_110807 PM.txt\n",
      "D:/internship/Data/abhishek/mar 11\\ECGDataJSON__110808 PM_110823 PM.txt\n",
      "D:/internship/Data/abhishek/mar 11\\ECGDataJSON__110824 PM_110935 PM.txt\n",
      "D:/internship/Data/abhishek/mar 11\\ECGDataJSON__110936 PM_111031 PM.txt\n",
      "D:/internship/Data/abhishek/mar 11\\ECGDataJSON__111032 PM_111047 PM.txt\n",
      "D:/internship/Data/abhishek/mar 11\\ECGDataJSON__111048 PM_111143 PM.txt\n",
      "D:/internship/Data/abhishek/mar 11\\ECGDataJSON__111144 PM_111151 PM.txt\n",
      "D:/internship/Data/abhishek/mar 11\\ECGDataJSON__111152 PM_111343 PM.txt\n",
      "D:/internship/Data/abhishek/mar 11\\ECGDataJSON__111344 PM_111447 PM.txt\n",
      "D:/internship/Data/abhishek/mar 11\\ECGDataJSON__111448 PM_111503 PM.txt\n",
      "D:/internship/Data/abhishek/mar 11\\ECGDataJSON__111504 PM_111551 PM.txt\n",
      "D:/internship/Data/abhishek/mar 11\\ECGDataJSON__111552 PM_111647 PM.txt\n",
      "D:/internship/Data/abhishek/mar 11\\ECGDataJSON__111648 PM_111807 PM.txt\n",
      "D:/internship/Data/abhishek/mar 11\\ECGDataJSON__111808 PM_112159 PM.txt\n",
      "D:/internship/Data/abhishek/mar 11\\ECGDataJSON__112200 PM_112351 PM.txt\n",
      "D:/internship/Data/abhishek/mar 11\\ECGDataJSON__112352 PM_112919 PM.txt\n",
      "D:/internship/Data/abhishek/mar 11\\ECGDataJSON__112920 PM_112935 PM.txt\n",
      "D:/internship/Data/abhishek/mar 11\\ECGDataJSON__112936 PM_113055 PM.txt\n",
      "D:/internship/Data/abhishek/mar 11\\ECGDataJSON__113056 PM_113135 PM.txt\n",
      "D:/internship/Data/abhishek/mar 11\\ECGDataJSON__113136 PM_113151 PM.txt\n",
      "D:/internship/Data/abhishek/mar 11\\ECGDataJSON__113152 PM_113231 PM.txt\n",
      "D:/internship/Data/abhishek/mar 11\\ECGDataJSON__113232 PM_113455 PM.txt\n",
      "D:/internship/Data/abhishek/mar 11\\ECGDataJSON__113456 PM_113535 PM.txt\n",
      "D:/internship/Data/abhishek/mar 11\\ECGDataJSON__113536 PM_113655 PM.txt\n",
      "D:/internship/Data/abhishek/mar 11\\ECGDataJSON__113656 PM_114031 PM.txt\n",
      "D:/internship/Data/abhishek/mar 11\\ECGDataJSON__114032 PM_114151 PM.txt\n",
      "D:/internship/Data/abhishek/mar 11\\ECGDataJSON__114152 PM_114231 PM.txt\n",
      "D:/internship/Data/abhishek/mar 11\\ECGDataJSON__114232 PM_114255 PM.txt\n",
      "D:/internship/Data/abhishek/mar 11\\ECGDataJSON__114256 PM_114327 PM.txt\n",
      "D:/internship/Data/abhishek/mar 11\\ECGDataJSON__114328 PM_114623 PM.txt\n",
      "D:/internship/Data/abhishek/mar 11\\ECGDataJSON__114624 PM_115239 PM.txt\n",
      "D:/internship/Data/abhishek/mar 11\\ECGDataJSON__115240 PM_115958 PM.txt\n"
     ]
    }
   ],
   "source": [
    "time1=[]\n",
    "loc1=[]\n",
    "x = glob.glob('D:/internship/Data/abhishek/mar 11/*.txt')\n",
    "for i in x:\n",
    "  #print(i)\n",
    "  j = (i.split('/')[-1].split('__')[-1].split(' '))\n",
    "\n",
    "  if len(j[0]) == 5:\n",
    "    t = '0'+j[0] \n",
    "  else:\n",
    "    t = j[0]\n",
    "  end  = j[1].split('_')\n",
    "\n",
    "  loc1.append(i)\n",
    "  time1.append(datetime.strptime(t+end[0], '%I%M%S%p'))\n",
    "  #print(t+end[0],datetime.strptime(t+end[0], '%I%M%S%p'))\n",
    "\n",
    "data = {\"loc\":loc1,'time':time1}\n",
    "D1 = pd.DataFrame(data=data)\n",
    "D1.head(20)\n",
    "D1 = D1.sort_values(by=\"time\")\n",
    "D1.head(40)\n",
    "hr =[]\n",
    "acc =[]\n",
    "rri = []\n",
    "time = []\n",
    "dic_data = {} \n",
    "for i in list(D1['loc'][3:]):\n",
    "  f = open(i,'r')\n",
    "  try:\n",
    "    print(i)\n",
    "    Data = json.load(f)\n",
    "    for i in range(0,len(Data['data'])):\n",
    "      hr.append(Data['data'][i]['extras']['HR'])\n",
    "      rri.append(Data['data'][i]['extras']['rri'])\n",
    "      acc.append((Data['data'][i]['extras']['acc']))\n",
    "      time1 =datetime.fromtimestamp(Data['data'][i]['extras']['time']/1e3)\n",
    "      time.append(time1)\n",
    "      dic_data[time1] = Data['data'][i]['extras']['rri']\n",
    "  except Exception  as e:\n",
    "#     print(i)\n",
    "    error = str(e)\n",
    "    val = int(error.split(' ')[-3]) -1\n",
    "    print(val)\n",
    "    f = open(i,'r')\n",
    "    data = (f.read())\n",
    "    #print(data[:val])\n",
    "    dic = json.loads(data[:val])\n",
    "    for i in range(0,len(dic['data'])):\n",
    "      hr.append(dic['data'][i]['extras']['HR'])\n",
    "      acc.append((dic['data'][i]['extras']['acc']))\n",
    "      rri.append(dic['data'][i]['extras']['rri'])\n",
    "      \n",
    "      time1 =datetime.fromtimestamp(dic['data'][i]['extras']['time']/1e3)\n",
    "      time.append(time1)\n",
    "      dic_data[time1] = dic['data'][i]['extras']['rri']\n"
   ]
  },
  {
   "cell_type": "markdown",
   "id": "03ff907b-b53b-4459-a5b7-32945992bb6e",
   "metadata": {},
   "source": [
    "considering rri interval for 5 mins."
   ]
  },
  {
   "cell_type": "code",
   "execution_count": 5,
   "id": "f4939bab-1d23-461d-89ed-9a58abab368d",
   "metadata": {},
   "outputs": [
    {
     "data": {
      "text/plain": [
       "300"
      ]
     },
     "execution_count": 5,
     "metadata": {},
     "output_type": "execute_result"
    }
   ],
   "source": [
    "\n",
    "rr = [i for i in (np.array(list(dic_data.values())).flatten()) if i !=0][:300]\n",
    "rr = list(map(int,rr))\n",
    "len(rr)"
   ]
  },
  {
   "cell_type": "markdown",
   "id": "9b7c0823-cb4f-4920-812c-94d44fd96c89",
   "metadata": {},
   "source": [
    "## Input list of rr(ms) with data type int.\n",
    "Any lentgh of rr can be given. min :5 minutes(preffered)"
   ]
  },
  {
   "cell_type": "code",
   "execution_count": 30,
   "id": "05590e0c-46b7-4c3d-a407-e3d277ee093c",
   "metadata": {},
   "outputs": [],
   "source": [
    "dic = {'short': (4,16),'long':(17,64)}\n",
    "data = {'params': dic, 'arr': json.dumps(rr)}\n"
   ]
  },
  {
   "cell_type": "code",
   "execution_count": 31,
   "id": "5d8b7217-a303-4742-a6fe-89d3aab7ccd4",
   "metadata": {},
   "outputs": [],
   "source": [
    "r = requests.get('http://192.168.0.111:8080/',json=data)\n"
   ]
  },
  {
   "cell_type": "code",
   "execution_count": null,
   "id": "60ee192b-d194-4c5b-a133-c59c3ed7d9ce",
   "metadata": {},
   "outputs": [],
   "source": []
  },
  {
   "cell_type": "code",
   "execution_count": 27,
   "id": "1ad18149-c679-4b5f-8229-efe0f65ab734",
   "metadata": {},
   "outputs": [
    {
     "data": {
      "text/plain": [
       "dict_keys(['result', 'status'])"
      ]
     },
     "execution_count": 27,
     "metadata": {},
     "output_type": "execute_result"
    }
   ],
   "source": [
    "rsult =  json.loads(r.content.decode(\"utf-8\"))\n",
    "rsult.keys()"
   ]
  },
  {
   "cell_type": "code",
   "execution_count": 28,
   "id": "210bd2de-90df-4107-8f17-2da14b856346",
   "metadata": {
    "tags": []
   },
   "outputs": [],
   "source": [
    "results = rsult['result']"
   ]
  },
  {
   "cell_type": "code",
   "execution_count": 51,
   "id": "2595a4f6-c667-4858-ada9-b42821fc534b",
   "metadata": {},
   "outputs": [],
   "source": [
    "\n",
    "obj = open('data1.json', 'w')\n",
    "obj.write(json.dumps((results),  indent=4))\n",
    "obj.close()"
   ]
  },
  {
   "cell_type": "markdown",
   "id": "a045a0a3-8b87-43ce-87a5-1189985c12e7",
   "metadata": {
    "tags": []
   },
   "source": [
    "# Time domain Parameter "
   ]
  },
  {
   "cell_type": "code",
   "execution_count": 29,
   "id": "8c2f2676-149f-451c-9f62-54524795cf41",
   "metadata": {},
   "outputs": [
    {
     "data": {
      "image/png": "[encoded data removed]",
      "text/plain": [
       "<Figure size 1440x360 with 2 Axes>"
      ]
     },
     "metadata": {
      "needs_background": "light"
     },
     "output_type": "display_data"
    }
   ],
   "source": [
    "plot(results['time_domain']['hist_data_hr'],results['time_domain']['hist_data_rr_ms'])\n"
   ]
  },
  {
   "cell_type": "code",
   "execution_count": 11,
   "id": "1a2530bb-3a03-4e34-ae09-3f0baa8da8d2",
   "metadata": {},
   "outputs": [
    {
     "data": {
      "text/plain": [
       "{'mean_rr ms': 863.0366666666666,\n",
       " 'mean_hr 1/(min)': 69.98855108930373,\n",
       " 'std_rr ms': 71.96509794492205,\n",
       " 'std_hr 1/(min)': 5.624563379871976,\n",
       " 'Rmssd (ms)': 79.65573921129386,\n",
       " 'NN50 (count)': 148.0,\n",
       " 'PNN50 %': 0.49498327759197325,\n",
       " 'triangle_index': 11.538461538461538}"
      ]
     },
     "execution_count": 11,
     "metadata": {},
     "output_type": "execute_result"
    }
   ],
   "source": [
    "results['time_domain']['params']\n"
   ]
  },
  {
   "cell_type": "markdown",
   "id": "3492faa5-d015-4466-8c81-1529709f842c",
   "metadata": {
    "tags": []
   },
   "source": [
    "# freq Domain parameter"
   ]
  },
  {
   "cell_type": "code",
   "execution_count": 12,
   "id": "00afe81b-a101-4c95-9e57-2a9a5141ba5d",
   "metadata": {},
   "outputs": [
    {
     "data": {
      "image/png": "[encoded data removed]",
      "text/plain": [
       "<Figure size 1440x504 with 1 Axes>"
      ]
     },
     "metadata": {
      "needs_background": "light"
     },
     "output_type": "display_data"
    }
   ],
   "source": [
    "name= \"FFT Spectrum (Welch's periodogram with 256s window and 50% overlap)\"\n",
    "plot_psd(results['weltch_psd']['fxx'],results['weltch_psd']['pxx/(s^2hz)'],name)"
   ]
  },
  {
   "cell_type": "code",
   "execution_count": 13,
   "id": "bf2fc001-70dc-46dc-bfa2-4fdee60fc07e",
   "metadata": {},
   "outputs": [
    {
     "data": {
      "text/plain": [
       "{'Power_VLF (ms2)': 481.9306317772607,\n",
       " 'Power_LF (ms2)': 1057.9592234060794,\n",
       " 'Power_HF (ms2)': 2001.5814870064921,\n",
       " 'Power_Total (ms2)': 3541.4713421898323,\n",
       " 'Power_VLF %': 13.608203630959325,\n",
       " 'Power_LF %': 29.8734373705789,\n",
       " 'Power_HF %': 56.51835899846178,\n",
       " 'ratio_LF/HF': 0.5285616550082769,\n",
       " 'Peak_VLF (Hz)': 0.015625,\n",
       " 'Peak_LF (Hz)': 0.0625,\n",
       " 'Peak_HF (Hz)': 0.328125,\n",
       " 'Fraction_LF (nu)': 34.57902095584197,\n",
       " 'Fraction_HF (nu)': 65.42097904415803}"
      ]
     },
     "execution_count": 13,
     "metadata": {},
     "output_type": "execute_result"
    }
   ],
   "source": [
    "results['weltch_psd']['params']"
   ]
  },
  {
   "cell_type": "code",
   "execution_count": 14,
   "id": "36eaf811-b4c0-4ef5-864a-9362b85ae34b",
   "metadata": {},
   "outputs": [
    {
     "data": {
      "image/png": "[encoded data removed]",
      "text/plain": [
       "<Figure size 1440x504 with 1 Axes>"
      ]
     },
     "metadata": {
      "needs_background": "light"
     },
     "output_type": "display_data"
    }
   ],
   "source": [
    "name = 'AR spectrum (Order 16 with 256s overlap)'\n",
    "plot_psd(results['ar_psd']['fxx'],results['ar_psd']['pxx/(s^2hz)'],name)"
   ]
  },
  {
   "cell_type": "code",
   "execution_count": 15,
   "id": "2d161e46-28a5-46f3-adf2-9d448bfc8e6e",
   "metadata": {},
   "outputs": [
    {
     "data": {
      "text/plain": [
       "{'Power_VLF (ms2)': 2424.0074110442274,\n",
       " 'Power_LF (ms2)': 4944.225636740029,\n",
       " 'Power_HF (ms2)': 10263.918894095608,\n",
       " 'Power_Total (ms2)': 17632.151941879863,\n",
       " 'Power_VLF %': 13.747654960292897,\n",
       " 'Power_LF %': 28.0409654648932,\n",
       " 'Power_HF %': 58.211379574813904,\n",
       " 'ratio_LF/HF': 0.4817093439411558,\n",
       " 'Peak_VLF (Hz)': 0.0,\n",
       " 'Peak_LF (Hz)': 0.04263565891472868,\n",
       " 'Peak_HF (Hz)': 0.1511627906976744,\n",
       " 'Fraction_LF (nu)': 32.510380386741105,\n",
       " 'Fraction_HF (nu)': 67.4896196132589}"
      ]
     },
     "execution_count": 15,
     "metadata": {},
     "output_type": "execute_result"
    }
   ],
   "source": [
    "results['ar_psd']['params']"
   ]
  },
  {
   "cell_type": "markdown",
   "id": "ff86f57b-c131-4e46-a230-7cf26ffc85ce",
   "metadata": {
    "tags": []
   },
   "source": [
    "# non -linear analysis "
   ]
  },
  {
   "cell_type": "code",
   "execution_count": 16,
   "id": "1c9bf7ab-870c-4990-a202-6c5e58aacb5b",
   "metadata": {},
   "outputs": [
    {
     "data": {
      "text/plain": [
       "84.69893405789286"
      ]
     },
     "execution_count": 16,
     "metadata": {},
     "output_type": "execute_result"
    }
   ],
   "source": [
    "results['pinocare']['sd2(ms)']"
   ]
  },
  {
   "cell_type": "code",
   "execution_count": 17,
   "id": "71a4459c-4f39-474a-ab79-402d2e3ae7b8",
   "metadata": {},
   "outputs": [
    {
     "data": {
      "text/plain": [
       "56.32474616417078"
      ]
     },
     "execution_count": 17,
     "metadata": {},
     "output_type": "execute_result"
    }
   ],
   "source": [
    "results['pinocare']['sd1(ms)']"
   ]
  },
  {
   "cell_type": "code",
   "execution_count": 18,
   "id": "b8c10293-99bc-4f44-8c34-b4abadfee9be",
   "metadata": {
    "tags": []
   },
   "outputs": [
    {
     "data": {
      "image/png": "[encoded data removed]",
      "text/plain": [
       "<Figure size 504x504 with 1 Axes>"
      ]
     },
     "metadata": {
      "needs_background": "light"
     },
     "output_type": "display_data"
    }
   ],
   "source": [
    "plot_poinfrom_dict(results['pinocare'])\n",
    "                   "
   ]
  },
  {
   "cell_type": "code",
   "execution_count": 19,
   "id": "bb72da51-2235-4c9a-aad1-4b480292fb3f",
   "metadata": {},
   "outputs": [
    {
     "data": {
      "image/png": "[encoded data removed]",
      "text/plain": [
       "<Figure size 432x288 with 1 Axes>"
      ]
     },
     "metadata": {
      "needs_background": "light"
     },
     "output_type": "display_data"
    }
   ],
   "source": [
    "plt.scatter(results['dfa']['plot']['long']['scatter']['x_beats'],results['dfa']['plot']['long']['scatter']['y_logF(n)'],c ='green',s=10)\n",
    "plt.plot(results['dfa']['plot']['long']['plot_line']['x_beats'],results['dfa']['plot']['long']['plot_line']['y_logF(n)'],c='green')\n",
    "plt.scatter(results['dfa']['plot']['short']['scatter']['x_beats'],results['dfa']['plot']['short']['scatter']['y_logF(n)'],c ='red',s=10)\n",
    "plt.plot(results['dfa']['plot']['short']['plot_line']['x_beats'],results['dfa']['plot']['short']['plot_line']['y_logF(n)'],c='red')\n",
    "plt.xlabel('log(10) beats')\n",
    "plt.ylabel('log(10) F(n)')\n",
    "plt.title('Detrended Fluctuations DFA')\n",
    "plt.show()"
   ]
  },
  {
   "cell_type": "code",
   "execution_count": 20,
   "id": "ea8fe957-5ebc-4b45-bb25-5ba8be72950b",
   "metadata": {},
   "outputs": [
    {
     "data": {
      "text/plain": [
       "dict_keys(['long', 'short'])"
      ]
     },
     "execution_count": 20,
     "metadata": {},
     "output_type": "execute_result"
    }
   ],
   "source": [
    "results['dfa']['plot'].keys()"
   ]
  },
  {
   "cell_type": "code",
   "execution_count": 21,
   "id": "0ec23dc4-3800-4084-a725-6dbe8a485849",
   "metadata": {},
   "outputs": [
    {
     "data": {
      "text/plain": [
       "0.8081613056731448"
      ]
     },
     "execution_count": 21,
     "metadata": {},
     "output_type": "execute_result"
    }
   ],
   "source": [
    "results['dfa']['Detrended Fluctuations alpha1']"
   ]
  },
  {
   "cell_type": "code",
   "execution_count": 22,
   "id": "f5a52b2c-2987-49d6-bce9-0409aadf382a",
   "metadata": {},
   "outputs": [
    {
     "data": {
      "text/plain": [
       "0.6925783801247071"
      ]
     },
     "execution_count": 22,
     "metadata": {},
     "output_type": "execute_result"
    }
   ],
   "source": [
    "results['dfa']['Detrended Fluctuations alpha2']"
   ]
  },
  {
   "cell_type": "code",
   "execution_count": 23,
   "id": "a0ddd4e3-9685-4619-9e9d-c520668d9533",
   "metadata": {},
   "outputs": [
    {
     "data": {
      "text/plain": [
       "1.609106023262383"
      ]
     },
     "execution_count": 23,
     "metadata": {},
     "output_type": "execute_result"
    }
   ],
   "source": [
    "results['dfa']['corelation_dimention(D2)']"
   ]
  },
  {
   "cell_type": "code",
   "execution_count": 24,
   "id": "f36284f0-07a1-409f-8428-d10cf4962f3c",
   "metadata": {},
   "outputs": [
    {
     "data": {
      "text/plain": [
       "4.316533592225942"
      ]
     },
     "execution_count": 24,
     "metadata": {},
     "output_type": "execute_result"
    }
   ],
   "source": [
    "results['dfa']['apx_entopy']"
   ]
  },
  {
   "cell_type": "code",
   "execution_count": 25,
   "id": "12d02715-18dd-4eca-9367-539442180254",
   "metadata": {},
   "outputs": [
    {
     "data": {
      "text/plain": [
       "2.251291798606495"
      ]
     },
     "execution_count": 25,
     "metadata": {},
     "output_type": "execute_result"
    }
   ],
   "source": [
    "results['dfa']['sample_entropy']"
   ]
  },
  {
   "cell_type": "code",
   "execution_count": null,
   "id": "b037ec24-3c15-4510-83bd-e84edbc0a408",
   "metadata": {},
   "outputs": [],
   "source": []
  },
  {
   "cell_type": "code",
   "execution_count": null,
   "id": "cc1ef906-ffb8-46aa-93bb-a46c1f01bb68",
   "metadata": {},
   "outputs": [],
   "source": []
  },
  {
   "cell_type": "code",
   "execution_count": null,
   "id": "6a8c81b1-80c7-42ca-97d8-b48497a79a0a",
   "metadata": {},
   "outputs": [],
   "source": []
  }
 ],
 "metadata": {
  "kernelspec": {
   "display_name": "Python 3 (ipykernel)",
   "language": "python",
   "name": "python3"
  },
  "language_info": {
   "codemirror_mode": {
    "name": "ipython",
    "version": 3
   },
   "file_extension": ".py",
   "mimetype": "text/x-python",
   "name": "python",
   "nbconvert_exporter": "python",
   "pygments_lexer": "ipython3",
   "version": "3.7.11"
  }
 },
 "nbformat": 4,
 "nbformat_minor": 5
}
